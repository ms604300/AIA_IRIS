{
 "cells": [
  {
   "cell_type": "code",
   "execution_count": 1,
   "metadata": {},
   "outputs": [],
   "source": [
    "import numpy as np              #匯入numpy模組，支援維度陣列與矩陣運算\n",
    "import pandas as pd             #匯入pandas模組，提供數據分析lib\n",
    "import csv                      #匯入csv模組，讀取或產生 csv 檔案，\n",
    "                                #逗點分隔（Comma-Separated Values）是一種以逗號分隔不同欄位的資料格式\n",
    "import random                   #匯入random模組，隨機取數\n",
    "import math                     #匯入math模組，支援數學功能\n",
    "import operator                 #匯入operator模組，支援一些運算和和比較內置的函數\n",
    "import matplotlib.pyplot as plt #匯入matplotlib.pyplot模組，繪圖功能，之後以plt簡稱呼叫\n",
    "#圖表繪製擴展庫，此指令可以將matplotlib的圖表直接嵌入到Notebook之中，\n",
    " #或者使用指定的界面库顯示圖表，inline表示將圖表嵌入到Notebook中。\n",
    "get_ipython().run_line_magic('matplotlib', 'inline')"
   ]
  },
  {
   "cell_type": "code",
   "execution_count": 49,
   "metadata": {},
   "outputs": [
    {
     "data": {
      "text/html": [
       "<div>\n",
       "<style scoped>\n",
       "    .dataframe tbody tr th:only-of-type {\n",
       "        vertical-align: middle;\n",
       "    }\n",
       "\n",
       "    .dataframe tbody tr th {\n",
       "        vertical-align: top;\n",
       "    }\n",
       "\n",
       "    .dataframe thead th {\n",
       "        text-align: right;\n",
       "    }\n",
       "</style>\n",
       "<table border=\"1\" class=\"dataframe\">\n",
       "  <thead>\n",
       "    <tr style=\"text-align: right;\">\n",
       "      <th></th>\n",
       "      <th>id</th>\n",
       "      <th>sepal_l</th>\n",
       "      <th>sepal_w</th>\n",
       "      <th>petal_l</th>\n",
       "      <th>petal_w</th>\n",
       "      <th>species</th>\n",
       "      <th>type</th>\n",
       "    </tr>\n",
       "  </thead>\n",
       "  <tbody>\n",
       "    <tr>\n",
       "      <th>0</th>\n",
       "      <td>1</td>\n",
       "      <td>5.4</td>\n",
       "      <td>3.7</td>\n",
       "      <td>1.5</td>\n",
       "      <td>0.2</td>\n",
       "      <td>Iris-setosa</td>\n",
       "      <td>1</td>\n",
       "    </tr>\n",
       "    <tr>\n",
       "      <th>1</th>\n",
       "      <td>2</td>\n",
       "      <td>4.8</td>\n",
       "      <td>3.4</td>\n",
       "      <td>1.6</td>\n",
       "      <td>0.2</td>\n",
       "      <td>Iris-setosa</td>\n",
       "      <td>1</td>\n",
       "    </tr>\n",
       "    <tr>\n",
       "      <th>2</th>\n",
       "      <td>3</td>\n",
       "      <td>4.8</td>\n",
       "      <td>3.0</td>\n",
       "      <td>1.4</td>\n",
       "      <td>0.1</td>\n",
       "      <td>Iris-setosa</td>\n",
       "      <td>1</td>\n",
       "    </tr>\n",
       "    <tr>\n",
       "      <th>3</th>\n",
       "      <td>4</td>\n",
       "      <td>4.3</td>\n",
       "      <td>3.0</td>\n",
       "      <td>1.1</td>\n",
       "      <td>0.1</td>\n",
       "      <td>Iris-setosa</td>\n",
       "      <td>1</td>\n",
       "    </tr>\n",
       "    <tr>\n",
       "      <th>4</th>\n",
       "      <td>5</td>\n",
       "      <td>5.8</td>\n",
       "      <td>4.0</td>\n",
       "      <td>1.2</td>\n",
       "      <td>0.2</td>\n",
       "      <td>Iris-setosa</td>\n",
       "      <td>1</td>\n",
       "    </tr>\n",
       "  </tbody>\n",
       "</table>\n",
       "</div>"
      ],
      "text/plain": [
       "   id  sepal_l  sepal_w  petal_l  petal_w      species  type\n",
       "0   1      5.4      3.7      1.5      0.2  Iris-setosa     1\n",
       "1   2      4.8      3.4      1.6      0.2  Iris-setosa     1\n",
       "2   3      4.8      3.0      1.4      0.1  Iris-setosa     1\n",
       "3   4      4.3      3.0      1.1      0.1  Iris-setosa     1\n",
       "4   5      5.8      4.0      1.2      0.2  Iris-setosa     1"
      ]
     },
     "execution_count": 49,
     "metadata": {},
     "output_type": "execute_result"
    }
   ],
   "source": [
    "# 載入train.csv資料\n",
    "train_data      = pd.read_csv('train.csv', encoding = 'utf8') #讀⼊train.csv的檔案，並可使用中文\n",
    "test_data       = pd.read_csv('test.csv')                     #讀⼊test.csv的檔案，並可使用中文\n",
    "submission_data = pd.read_csv('submission.csv')               #讀⼊submission.csv的檔案，並可使用中文\n",
    "train_data      = train_data.rename(columns = {'花萼長度':'sepal_l','花萼寬度':'sepal_w',\n",
    "                                               '花瓣長度':'petal_l','花瓣寬度':'petal_w','屬種':'species'})\n",
    "test_data       = test_data.rename(columns  = {'花萼長度':'sepal_l','花萼寬度':'sepal_w',\n",
    "                                               '花瓣長度':'petal_l','花瓣寬度':'petal_w','屬種':'species'})\n",
    "train_data.head(5)                                           #列出開頭前五項的內容"
   ]
  },
  {
   "cell_type": "code",
   "execution_count": 4,
   "metadata": {},
   "outputs": [
    {
     "data": {
      "text/html": [
       "<div>\n",
       "<style scoped>\n",
       "    .dataframe tbody tr th:only-of-type {\n",
       "        vertical-align: middle;\n",
       "    }\n",
       "\n",
       "    .dataframe tbody tr th {\n",
       "        vertical-align: top;\n",
       "    }\n",
       "\n",
       "    .dataframe thead th {\n",
       "        text-align: right;\n",
       "    }\n",
       "</style>\n",
       "<table border=\"1\" class=\"dataframe\">\n",
       "  <thead>\n",
       "    <tr style=\"text-align: right;\">\n",
       "      <th></th>\n",
       "      <th>Iris-new_type</th>\n",
       "      <th>Iris-setosa</th>\n",
       "      <th>Iris-versicolor</th>\n",
       "      <th>Iris-virginica</th>\n",
       "    </tr>\n",
       "  </thead>\n",
       "  <tbody>\n",
       "    <tr>\n",
       "      <th>86</th>\n",
       "      <td>0</td>\n",
       "      <td>0</td>\n",
       "      <td>0</td>\n",
       "      <td>1</td>\n",
       "    </tr>\n",
       "    <tr>\n",
       "      <th>42</th>\n",
       "      <td>0</td>\n",
       "      <td>0</td>\n",
       "      <td>1</td>\n",
       "      <td>0</td>\n",
       "    </tr>\n",
       "    <tr>\n",
       "      <th>89</th>\n",
       "      <td>0</td>\n",
       "      <td>0</td>\n",
       "      <td>0</td>\n",
       "      <td>1</td>\n",
       "    </tr>\n",
       "    <tr>\n",
       "      <th>84</th>\n",
       "      <td>0</td>\n",
       "      <td>0</td>\n",
       "      <td>0</td>\n",
       "      <td>1</td>\n",
       "    </tr>\n",
       "    <tr>\n",
       "      <th>34</th>\n",
       "      <td>0</td>\n",
       "      <td>1</td>\n",
       "      <td>0</td>\n",
       "      <td>0</td>\n",
       "    </tr>\n",
       "  </tbody>\n",
       "</table>\n",
       "</div>"
      ],
      "text/plain": [
       "    Iris-new_type  Iris-setosa  Iris-versicolor  Iris-virginica\n",
       "86              0            0                0               1\n",
       "42              0            0                1               0\n",
       "89              0            0                0               1\n",
       "84              0            0                0               1\n",
       "34              0            1                0               0"
      ]
     },
     "execution_count": 4,
     "metadata": {},
     "output_type": "execute_result"
    }
   ],
   "source": [
    "df1 = pd.get_dummies(train_data['species'])\n",
    "df1.sample(5)#隨機選取五項印出\n",
    "#pandas使用get_dummies可以很方便的對離散型特徵進行one-hot編碼\n",
    "#離散特徵的編碼分為兩種情況：\n",
    "#1、離散特徵的取值之間沒有大小的意義，比如color：[red,blue],那麼就使用one-hot編碼\n",
    "#2、離散特徵的取值有大小的意義，比如size:[X,XL,XXL],那麼就使用數值的映射{X:1,XL:2,XXL:3}"
   ]
  },
  {
   "cell_type": "code",
   "execution_count": 5,
   "metadata": {},
   "outputs": [
    {
     "data": {
      "text/plain": [
       "31    1\n",
       "9     1\n",
       "10    1\n",
       "37    1\n",
       "91    3\n",
       "Name: species, dtype: object"
      ]
     },
     "execution_count": 5,
     "metadata": {},
     "output_type": "execute_result"
    }
   ],
   "source": [
    "df2 = train_data['species'].replace({'Iris-setosa':1,'Iris-versicolor':2,'Iris-virginica':3})#重新命名個別品種編號\n",
    "df2.sample(5)            #隨機選取五項印出"
   ]
  },
  {
   "cell_type": "code",
   "execution_count": 6,
   "metadata": {},
   "outputs": [
    {
     "data": {
      "text/plain": [
       "sepal_w    1\n",
       "sepal_l    1\n",
       "type       0\n",
       "species    0\n",
       "petal_w    0\n",
       "petal_l    0\n",
       "id         0\n",
       "dtype: int64"
      ]
     },
     "execution_count": 6,
     "metadata": {},
     "output_type": "execute_result"
    }
   ],
   "source": [
    "#missing data-缺值處理\n",
    "miss_sum = train_data.isnull().sum().sort_values(ascending=False)\n",
    "miss_sum\n",
    "# 利用pandas裡的 isnull 加上 sum 可以看出哪些特徵值有空值(缺值)"
   ]
  },
  {
   "cell_type": "code",
   "execution_count": 7,
   "metadata": {},
   "outputs": [
    {
     "name": "stdout",
     "output_type": "stream",
     "text": [
      "      id  sepal_l  sepal_w  petal_l  petal_w        species  type\n",
      "121  122      5.2      NaN      5.1      1.8  Iris-new_type     4\n",
      "-----------------------------------------------------------------------\n",
      "      id  sepal_l  sepal_w  petal_l  petal_w        species  type\n",
      "120  121      NaN      3.0      4.9      1.2  Iris-new_type     4\n"
     ]
    }
   ],
   "source": [
    "#印出哪幾筆具有空值資料\n",
    "print(train_data[train_data['sepal_w'].isnull()])\n",
    "print(\"-----------------------------------------------------------------------\")\n",
    "print(train_data[train_data['sepal_l'].isnull()])\n"
   ]
  },
  {
   "cell_type": "code",
   "execution_count": 8,
   "metadata": {},
   "outputs": [
    {
     "data": {
      "text/plain": [
       "type       0\n",
       "species    0\n",
       "petal_w    0\n",
       "petal_l    0\n",
       "sepal_w    0\n",
       "sepal_l    0\n",
       "id         0\n",
       "dtype: int64"
      ]
     },
     "execution_count": 8,
     "metadata": {},
     "output_type": "execute_result"
    }
   ],
   "source": [
    "#直接把 NaN drop(清掉) (若筆數很少,不影響建模的時候，而train資料123筆中只有2筆具有空值，故使用)\n",
    "train_data_d_na = train_data.dropna().reset_index(drop=True)       #dropna()刪除帶有nan的所有項\n",
    "train_data_d_na.isnull().sum().sort_values(ascending=False)        #再查看一次是否還有空值"
   ]
  },
  {
   "cell_type": "code",
   "execution_count": 9,
   "metadata": {},
   "outputs": [],
   "source": [
    "#將花萼長度空值補上眾數\n",
    "train_data[['sepal_l']] = train_data[['sepal_l']].fillna(train_data['sepal_l'].mode()[0])\n",
    "#將花萼寬度空值補上平均數\n",
    "train_data[['sepal_w']] = train_data[['sepal_w']].fillna(np.mean(train_data[['sepal_w']]))\n",
    "#fillna()用某一個特定值取代所有nan，此是用train_data[['花萼寬度']平均值取代"
   ]
  },
  {
   "cell_type": "code",
   "execution_count": 10,
   "metadata": {},
   "outputs": [
    {
     "data": {
      "image/png": "[encoded data removed]",
      "text/plain": [
       "<Figure size 330.375x288 with 1 Axes>"
      ]
     },
     "metadata": {},
     "output_type": "display_data"
    }
   ],
   "source": [
    "# 觀看 花萼長度sepal_l & 花萼寬度sepal_w 分布狀況\n",
    "import seaborn as sns   #Seaborn套件是以 matplotlib 為基礎建構的高階繪圖套件，可視為是 matplotlib 的補強\n",
    "sns.FacetGrid(train_data, hue=\"type\", size=4).map(plt.scatter, \"sepal_l\", \"sepal_w\").add_legend();\n",
    "plt.show();\n",
    "#FacetGrid()函數映射"
   ]
  },
  {
   "cell_type": "code",
   "execution_count": 11,
   "metadata": {},
   "outputs": [
    {
     "data": {
      "image/png": "[encoded data removed]",
      "text/plain": [
       "<Figure size 330.375x288 with 1 Axes>"
      ]
     },
     "metadata": {},
     "output_type": "display_data"
    }
   ],
   "source": [
    "# 觀看 花瓣長度petal_l & 花瓣寬度petal_w 分布狀況\n",
    "sns.FacetGrid(train_data, hue=\"type\", size=4).map(plt.scatter, \"petal_l\", \"petal_w\").add_legend();\n",
    "plt.show();"
   ]
  },
  {
   "cell_type": "code",
   "execution_count": 12,
   "metadata": {},
   "outputs": [
    {
     "data": {
      "text/plain": [
       "array([[<matplotlib.axes._subplots.AxesSubplot object at 0x00000218A7A3ECF8>,\n",
       "        <matplotlib.axes._subplots.AxesSubplot object at 0x00000218A7BB1A58>,\n",
       "        <matplotlib.axes._subplots.AxesSubplot object at 0x00000218A7BE0128>,\n",
       "        <matplotlib.axes._subplots.AxesSubplot object at 0x00000218A7D087B8>],\n",
       "       [<matplotlib.axes._subplots.AxesSubplot object at 0x00000218A7D71E48>,\n",
       "        <matplotlib.axes._subplots.AxesSubplot object at 0x00000218A7D71E80>,\n",
       "        <matplotlib.axes._subplots.AxesSubplot object at 0x00000218A7DC7BA8>,\n",
       "        <matplotlib.axes._subplots.AxesSubplot object at 0x00000218A7E3B278>],\n",
       "       [<matplotlib.axes._subplots.AxesSubplot object at 0x00000218A7E62908>,\n",
       "        <matplotlib.axes._subplots.AxesSubplot object at 0x00000218A7F09F98>,\n",
       "        <matplotlib.axes._subplots.AxesSubplot object at 0x00000218A8FCA668>,\n",
       "        <matplotlib.axes._subplots.AxesSubplot object at 0x00000218A8FF2CF8>],\n",
       "       [<matplotlib.axes._subplots.AxesSubplot object at 0x00000218A90233C8>,\n",
       "        <matplotlib.axes._subplots.AxesSubplot object at 0x00000218A9049A58>,\n",
       "        <matplotlib.axes._subplots.AxesSubplot object at 0x00000218A907C128>,\n",
       "        <matplotlib.axes._subplots.AxesSubplot object at 0x00000218A92D27B8>]],\n",
       "      dtype=object)"
      ]
     },
     "execution_count": 12,
     "metadata": {},
     "output_type": "execute_result"
    },
    {
     "data": {
      "image/png": "[encoded data removed]",
      "text/plain": [
       "<Figure size 720x720 with 16 Axes>"
      ]
     },
     "metadata": {},
     "output_type": "display_data"
    }
   ],
   "source": [
    "from pandas.plotting import scatter_matrix #scatter_matrix 創建散佈圖矩陣\n",
    "scatter_matrix( train_data[['sepal_l','sepal_w','petal_l','petal_w']],figsize=(10, 10),color='b')"
   ]
  },
  {
   "cell_type": "code",
   "execution_count": 13,
   "metadata": {},
   "outputs": [
    {
     "data": {
      "text/html": [
       "<div>\n",
       "<style scoped>\n",
       "    .dataframe tbody tr th:only-of-type {\n",
       "        vertical-align: middle;\n",
       "    }\n",
       "\n",
       "    .dataframe tbody tr th {\n",
       "        vertical-align: top;\n",
       "    }\n",
       "\n",
       "    .dataframe thead th {\n",
       "        text-align: right;\n",
       "    }\n",
       "</style>\n",
       "<table border=\"1\" class=\"dataframe\">\n",
       "  <thead>\n",
       "    <tr style=\"text-align: right;\">\n",
       "      <th></th>\n",
       "      <th>sepal_l</th>\n",
       "      <th>sepal_w</th>\n",
       "      <th>petal_l</th>\n",
       "      <th>petal_w</th>\n",
       "    </tr>\n",
       "  </thead>\n",
       "  <tbody>\n",
       "    <tr>\n",
       "      <th>sepal_l</th>\n",
       "      <td>1.000000</td>\n",
       "      <td>-0.130174</td>\n",
       "      <td>0.850649</td>\n",
       "      <td>0.810219</td>\n",
       "    </tr>\n",
       "    <tr>\n",
       "      <th>sepal_w</th>\n",
       "      <td>-0.130174</td>\n",
       "      <td>1.000000</td>\n",
       "      <td>-0.436213</td>\n",
       "      <td>-0.367957</td>\n",
       "    </tr>\n",
       "    <tr>\n",
       "      <th>petal_l</th>\n",
       "      <td>0.850649</td>\n",
       "      <td>-0.436213</td>\n",
       "      <td>1.000000</td>\n",
       "      <td>0.958595</td>\n",
       "    </tr>\n",
       "    <tr>\n",
       "      <th>petal_w</th>\n",
       "      <td>0.810219</td>\n",
       "      <td>-0.367957</td>\n",
       "      <td>0.958595</td>\n",
       "      <td>1.000000</td>\n",
       "    </tr>\n",
       "  </tbody>\n",
       "</table>\n",
       "</div>"
      ],
      "text/plain": [
       "          sepal_l   sepal_w   petal_l   petal_w\n",
       "sepal_l  1.000000 -0.130174  0.850649  0.810219\n",
       "sepal_w -0.130174  1.000000 -0.436213 -0.367957\n",
       "petal_l  0.850649 -0.436213  1.000000  0.958595\n",
       "petal_w  0.810219 -0.367957  0.958595  1.000000"
      ]
     },
     "execution_count": 13,
     "metadata": {},
     "output_type": "execute_result"
    }
   ],
   "source": [
    "#在長度寬度分佈圖可以粗略得知：Iris-setosa不管在花萼長度寬度、花瓣長度寬度皆能明顯區隔\n",
    "#而區分Iris-versicolor和Irish-verginica或是Iris-new_type則可依花瓣長度寬度做區分\n",
    "#故接下來開始討論各資料的相關性\n",
    "train_data[['sepal_l','sepal_w','petal_l','petal_w']].corr()\n",
    "#相關分析（correlation analysis）-函數說明：\n",
    "#如果由資料框調用corr函數，那麼將會計算每個列兩兩之間的相似度\n",
    "#如果由序列調用corr方法，那麼只是該序列與傳入的序列之間的相關度"
   ]
  },
  {
   "cell_type": "code",
   "execution_count": 14,
   "metadata": {},
   "outputs": [
    {
     "data": {
      "image/png": "[encoded data removed]",
      "text/plain": [
       "<Figure size 432x288 with 1 Axes>"
      ]
     },
     "metadata": {},
     "output_type": "display_data"
    }
   ],
   "source": [
    "#印出每屬種species之花萼長度分布\n",
    "sns.boxplot(x='species',y='sepal_l', data=train_data)\n",
    "plt.show()\n"
   ]
  },
  {
   "cell_type": "code",
   "execution_count": 15,
   "metadata": {},
   "outputs": [
    {
     "data": {
      "image/png": "[encoded data removed]",
      "text/plain": [
       "<Figure size 432x288 with 1 Axes>"
      ]
     },
     "metadata": {},
     "output_type": "display_data"
    }
   ],
   "source": [
    "#印出每屬種species之花萼寬度分布\n",
    "sns.boxplot(x='species',y='sepal_w', data=train_data)\n",
    "plt.show()"
   ]
  },
  {
   "cell_type": "code",
   "execution_count": 16,
   "metadata": {},
   "outputs": [
    {
     "data": {
      "image/png": "[encoded data removed]",
      "text/plain": [
       "<Figure size 432x288 with 1 Axes>"
      ]
     },
     "metadata": {},
     "output_type": "display_data"
    }
   ],
   "source": [
    "#印出每屬種species之花瓣長度分布\n",
    "sns.boxplot(x='species',y='petal_l', data=train_data)\n",
    "plt.show()"
   ]
  },
  {
   "cell_type": "code",
   "execution_count": 17,
   "metadata": {},
   "outputs": [
    {
     "data": {
      "image/png": "[encoded data removed]",
      "text/plain": [
       "<Figure size 432x288 with 1 Axes>"
      ]
     },
     "metadata": {},
     "output_type": "display_data"
    }
   ],
   "source": [
    "#印出每屬種species之花瓣寬度分布\n",
    "sns.boxplot(x='species',y='petal_w', data=train_data)\n",
    "plt.show()"
   ]
  },
  {
   "cell_type": "code",
   "execution_count": 18,
   "metadata": {},
   "outputs": [],
   "source": [
    "#由上面四張盒鬚圖（Box plot）可知，四種屬種可由'花瓣長度'與'花瓣寬度'來做區隔\n",
    "#由相關分析（correlation analysis）中也可知道，花瓣長度與寬度具有高度相關"
   ]
  },
  {
   "cell_type": "code",
   "execution_count": 19,
   "metadata": {},
   "outputs": [],
   "source": [
    "#把示範用的 type 4, 資料去除, 以免干擾建模\n",
    "train_data = train_data[train_data['type']!=4]"
   ]
  },
  {
   "cell_type": "code",
   "execution_count": 24,
   "metadata": {},
   "outputs": [],
   "source": [
    "from sklearn.model_selection import train_test_split\n",
    "#sklearn是python的一個模組，用於機器學習方面。\n",
    "#train_test_split是劃分資料集的一個函數，此處用來資料分切。\n",
    "\n",
    "x = train_data[['petal_l','petal_w','sepal_l','sepal_w']]\n",
    "y = train_data['type']\n",
    "x_train, x_test, y_train, y_test = train_test_split(x, y, test_size = 0.3, random_state=100)# 0.3給test,0.7給train"
   ]
  },
  {
   "cell_type": "code",
   "execution_count": 32,
   "metadata": {},
   "outputs": [],
   "source": [
    "#標準化\n",
    "from sklearn.preprocessing import StandardScaler\n",
    "sc = StandardScaler()\n",
    "sc.fit(x_train)\n",
    "x_train_std = sc.transform(x_train)\n",
    "x_test_std = sc.transform(x_test)\n",
    "#使用sklearn.preprocessing.StandardScaler類，使用該類的好處在於可以保存訓練集中的參數（均值、方差）直接使用其物件轉換測試集資料，\n",
    "#且是針對每一個特徵維度來做的，而不是針對樣本。"
   ]
  },
  {
   "cell_type": "code",
   "execution_count": 36,
   "metadata": {},
   "outputs": [
    {
     "name": "stdout",
     "output_type": "stream",
     "text": [
      "             precision    recall  f1-score   support\n",
      "\n",
      "          1       1.00      1.00      1.00        14\n",
      "          2       0.90      0.90      0.90        10\n",
      "          3       0.92      0.92      0.92        12\n",
      "\n",
      "avg / total       0.94      0.94      0.94        36\n",
      "\n",
      "[[14  0  0]\n",
      " [ 0  9  1]\n",
      " [ 0  1 11]]\n"
     ]
    }
   ],
   "source": [
    "#建立初步模型-KNN\n",
    "from sklearn.neighbors import KNeighborsClassifier\n",
    "from sklearn import metrics\n",
    "#K最近鄰(k-Nearest Neighbor，KNN)分類演算法的核心思想：\n",
    "#是如果一個樣本在特徵空間中的k個最相似(即特徵空間中最鄰近)的樣本中的大多數屬於某一個類別，則該樣本也屬於這個類別。\n",
    "#KNN演算法可用於多分類，KNN演算法不僅可以用於分類，還可以用於回歸。\n",
    "#通過找出一個樣本的k個最近鄰居，將這些鄰居的屬性的平均值賦給該樣本，作為預測值。\n",
    "#KNeighborsClassifier在scikit-learn 在sklearn.neighbors包之中。\n",
    "#KNeighborsClassifier使用很簡單，三步：1.創建KNeighborsClassifier物件，2.調用fit函數，3.調用predict函數進行預測。\n",
    "\n",
    "knn = KNeighborsClassifier(n_neighbors=3, weights='uniform')\n",
    "knn.fit(x_train_std, y_train)\n",
    "\n",
    "print(metrics.classification_report(y_test, knn.predict(x_test_std)))\n",
    "print(metrics.confusion_matrix(y_test, knn.predict(x_test_std)))"
   ]
  },
  {
   "cell_type": "code",
   "execution_count": 38,
   "metadata": {},
   "outputs": [
    {
     "name": "stdout",
     "output_type": "stream",
     "text": [
      "oob_score(accuary): 0.9285714285714286\n",
      "             precision    recall  f1-score   support\n",
      "\n",
      "          1       1.00      1.00      1.00        14\n",
      "          2       1.00      0.90      0.95        10\n",
      "          3       0.92      1.00      0.96        12\n",
      "\n",
      "avg / total       0.97      0.97      0.97        36\n",
      "\n"
     ]
    }
   ],
   "source": [
    "from sklearn.ensemble import RandomForestClassifier\n",
    "#隨機森林（Random forest）\n",
    "#隨機森林演算法會對資料從列方向（觀測值方向）與欄方向（變數方向）進行 Bootstrap sampling，得到不同的訓練資料，\n",
    "#然後根據這些訓練資料得到一系列的決策樹分類器\n",
    "\n",
    "rfc = RandomForestClassifier(n_estimators=500, criterion='gini', max_features='auto', oob_score=True)\n",
    "rfc.fit(x_train, y_train) #不標準化\n",
    "\n",
    "print(\"oob_score(accuary):\",rfc.oob_score_)\n",
    "print(metrics.classification_report(y_test, rfc.predict(x_test)))"
   ]
  },
  {
   "cell_type": "code",
   "execution_count": 40,
   "metadata": {},
   "outputs": [
    {
     "name": "stdout",
     "output_type": "stream",
     "text": [
      "             precision    recall  f1-score   support\n",
      "\n",
      "          1       1.00      1.00      1.00        14\n",
      "          2       1.00      0.90      0.95        10\n",
      "          3       0.92      1.00      0.96        12\n",
      "\n",
      "avg / total       0.97      0.97      0.97        36\n",
      "\n",
      "Score: 0.9722222222222222\n"
     ]
    },
    {
     "name": "stderr",
     "output_type": "stream",
     "text": [
      "C:\\Users\\ms604\\Anaconda3\\envs\\tensorflow\\lib\\site-packages\\sklearn\\preprocessing\\label.py:151: DeprecationWarning: The truth value of an empty array is ambiguous. Returning False, but in future this will result in an error. Use `array.size > 0` to check that an array is not empty.\n",
      "  if diff:\n",
      "C:\\Users\\ms604\\Anaconda3\\envs\\tensorflow\\lib\\site-packages\\sklearn\\preprocessing\\label.py:151: DeprecationWarning: The truth value of an empty array is ambiguous. Returning False, but in future this will result in an error. Use `array.size > 0` to check that an array is not empty.\n",
      "  if diff:\n"
     ]
    }
   ],
   "source": [
    "import xgboost as xgb\n",
    "\n",
    "gbm = xgb.XGBClassifier(n_estimators= 2000, max_depth= 4).fit(x_train, y_train)\n",
    "\n",
    "print(metrics.classification_report(y_test, gbm.predict(x_test)))\n",
    "print(\"Score:\", gbm.score(x_test, y_test))"
   ]
  },
  {
   "cell_type": "code",
   "execution_count": 52,
   "metadata": {},
   "outputs": [
    {
     "name": "stderr",
     "output_type": "stream",
     "text": [
      "C:\\Users\\ms604\\Anaconda3\\envs\\tensorflow\\lib\\site-packages\\sklearn\\preprocessing\\label.py:151: DeprecationWarning: The truth value of an empty array is ambiguous. Returning False, but in future this will result in an error. Use `array.size > 0` to check that an array is not empty.\n",
      "  if diff:\n"
     ]
    }
   ],
   "source": [
    "pred = gbm.predict(test_data[['petal_l', 'petal_w', 'sepal_l', 'sepal_w']])"
   ]
  },
  {
   "cell_type": "code",
   "execution_count": 53,
   "metadata": {},
   "outputs": [
    {
     "data": {
      "text/plain": [
       "array([1, 1, 1, 1, 1, 1, 1, 1, 1, 1, 2, 2, 2, 2, 2, 2, 2, 2, 2, 2, 3, 3,\n",
       "       3, 3, 3, 3, 2, 3, 3, 3], dtype=int64)"
      ]
     },
     "execution_count": 53,
     "metadata": {},
     "output_type": "execute_result"
    }
   ],
   "source": [
    "pred"
   ]
  },
  {
   "cell_type": "code",
   "execution_count": 55,
   "metadata": {},
   "outputs": [],
   "source": [
    "# Generate Submission File \n",
    "StackingSubmission = pd.DataFrame({ 'id': submission_data.id, 'type': pred })\n",
    "StackingSubmission.to_csv(\"submission.csv\", index=False)"
   ]
  },
  {
   "cell_type": "code",
   "execution_count": 56,
   "metadata": {},
   "outputs": [
    {
     "data": {
      "text/html": [
       "<div>\n",
       "<style scoped>\n",
       "    .dataframe tbody tr th:only-of-type {\n",
       "        vertical-align: middle;\n",
       "    }\n",
       "\n",
       "    .dataframe tbody tr th {\n",
       "        vertical-align: top;\n",
       "    }\n",
       "\n",
       "    .dataframe thead th {\n",
       "        text-align: right;\n",
       "    }\n",
       "</style>\n",
       "<table border=\"1\" class=\"dataframe\">\n",
       "  <thead>\n",
       "    <tr style=\"text-align: right;\">\n",
       "      <th></th>\n",
       "      <th>id</th>\n",
       "      <th>type</th>\n",
       "    </tr>\n",
       "  </thead>\n",
       "  <tbody>\n",
       "    <tr>\n",
       "      <th>0</th>\n",
       "      <td>1</td>\n",
       "      <td>1</td>\n",
       "    </tr>\n",
       "    <tr>\n",
       "      <th>1</th>\n",
       "      <td>2</td>\n",
       "      <td>1</td>\n",
       "    </tr>\n",
       "    <tr>\n",
       "      <th>2</th>\n",
       "      <td>3</td>\n",
       "      <td>1</td>\n",
       "    </tr>\n",
       "    <tr>\n",
       "      <th>3</th>\n",
       "      <td>4</td>\n",
       "      <td>1</td>\n",
       "    </tr>\n",
       "    <tr>\n",
       "      <th>4</th>\n",
       "      <td>5</td>\n",
       "      <td>1</td>\n",
       "    </tr>\n",
       "    <tr>\n",
       "      <th>5</th>\n",
       "      <td>6</td>\n",
       "      <td>1</td>\n",
       "    </tr>\n",
       "    <tr>\n",
       "      <th>6</th>\n",
       "      <td>7</td>\n",
       "      <td>1</td>\n",
       "    </tr>\n",
       "    <tr>\n",
       "      <th>7</th>\n",
       "      <td>8</td>\n",
       "      <td>1</td>\n",
       "    </tr>\n",
       "    <tr>\n",
       "      <th>8</th>\n",
       "      <td>9</td>\n",
       "      <td>1</td>\n",
       "    </tr>\n",
       "    <tr>\n",
       "      <th>9</th>\n",
       "      <td>10</td>\n",
       "      <td>1</td>\n",
       "    </tr>\n",
       "    <tr>\n",
       "      <th>10</th>\n",
       "      <td>11</td>\n",
       "      <td>2</td>\n",
       "    </tr>\n",
       "    <tr>\n",
       "      <th>11</th>\n",
       "      <td>12</td>\n",
       "      <td>2</td>\n",
       "    </tr>\n",
       "    <tr>\n",
       "      <th>12</th>\n",
       "      <td>13</td>\n",
       "      <td>2</td>\n",
       "    </tr>\n",
       "    <tr>\n",
       "      <th>13</th>\n",
       "      <td>14</td>\n",
       "      <td>2</td>\n",
       "    </tr>\n",
       "    <tr>\n",
       "      <th>14</th>\n",
       "      <td>15</td>\n",
       "      <td>2</td>\n",
       "    </tr>\n",
       "    <tr>\n",
       "      <th>15</th>\n",
       "      <td>16</td>\n",
       "      <td>2</td>\n",
       "    </tr>\n",
       "    <tr>\n",
       "      <th>16</th>\n",
       "      <td>17</td>\n",
       "      <td>2</td>\n",
       "    </tr>\n",
       "    <tr>\n",
       "      <th>17</th>\n",
       "      <td>18</td>\n",
       "      <td>2</td>\n",
       "    </tr>\n",
       "    <tr>\n",
       "      <th>18</th>\n",
       "      <td>19</td>\n",
       "      <td>2</td>\n",
       "    </tr>\n",
       "    <tr>\n",
       "      <th>19</th>\n",
       "      <td>20</td>\n",
       "      <td>2</td>\n",
       "    </tr>\n",
       "    <tr>\n",
       "      <th>20</th>\n",
       "      <td>21</td>\n",
       "      <td>3</td>\n",
       "    </tr>\n",
       "    <tr>\n",
       "      <th>21</th>\n",
       "      <td>22</td>\n",
       "      <td>3</td>\n",
       "    </tr>\n",
       "    <tr>\n",
       "      <th>22</th>\n",
       "      <td>23</td>\n",
       "      <td>3</td>\n",
       "    </tr>\n",
       "    <tr>\n",
       "      <th>23</th>\n",
       "      <td>24</td>\n",
       "      <td>3</td>\n",
       "    </tr>\n",
       "    <tr>\n",
       "      <th>24</th>\n",
       "      <td>25</td>\n",
       "      <td>3</td>\n",
       "    </tr>\n",
       "    <tr>\n",
       "      <th>25</th>\n",
       "      <td>26</td>\n",
       "      <td>3</td>\n",
       "    </tr>\n",
       "    <tr>\n",
       "      <th>26</th>\n",
       "      <td>27</td>\n",
       "      <td>2</td>\n",
       "    </tr>\n",
       "    <tr>\n",
       "      <th>27</th>\n",
       "      <td>28</td>\n",
       "      <td>3</td>\n",
       "    </tr>\n",
       "    <tr>\n",
       "      <th>28</th>\n",
       "      <td>29</td>\n",
       "      <td>3</td>\n",
       "    </tr>\n",
       "    <tr>\n",
       "      <th>29</th>\n",
       "      <td>30</td>\n",
       "      <td>3</td>\n",
       "    </tr>\n",
       "  </tbody>\n",
       "</table>\n",
       "</div>"
      ],
      "text/plain": [
       "    id  type\n",
       "0    1     1\n",
       "1    2     1\n",
       "2    3     1\n",
       "3    4     1\n",
       "4    5     1\n",
       "5    6     1\n",
       "6    7     1\n",
       "7    8     1\n",
       "8    9     1\n",
       "9   10     1\n",
       "10  11     2\n",
       "11  12     2\n",
       "12  13     2\n",
       "13  14     2\n",
       "14  15     2\n",
       "15  16     2\n",
       "16  17     2\n",
       "17  18     2\n",
       "18  19     2\n",
       "19  20     2\n",
       "20  21     3\n",
       "21  22     3\n",
       "22  23     3\n",
       "23  24     3\n",
       "24  25     3\n",
       "25  26     3\n",
       "26  27     2\n",
       "27  28     3\n",
       "28  29     3\n",
       "29  30     3"
      ]
     },
     "execution_count": 56,
     "metadata": {},
     "output_type": "execute_result"
    }
   ],
   "source": [
    "submission = pd.read_csv('submission.csv', encoding = \"utf-8\", dtype = {'type': np.int32})\n",
    "submission"
   ]
  },
  {
   "cell_type": "code",
   "execution_count": null,
   "metadata": {},
   "outputs": [],
   "source": []
  }
 ],
 "metadata": {
  "kernelspec": {
   "display_name": "Python 3",
   "language": "python",
   "name": "python3"
  },
  "language_info": {
   "codemirror_mode": {
    "name": "ipython",
    "version": 3
   },
   "file_extension": ".py",
   "mimetype": "text/x-python",
   "name": "python",
   "nbconvert_exporter": "python",
   "pygments_lexer": "ipython3",
   "version": "3.6.5"
  }
 },
 "nbformat": 4,
 "nbformat_minor": 2
}
